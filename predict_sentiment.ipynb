{
 "cells": [
  {
   "cell_type": "markdown",
   "metadata": {},
   "source": [
    "# Mengimport Library yang Dibutuhkan."
   ]
  },
  {
   "cell_type": "code",
   "execution_count": 1,
   "metadata": {},
   "outputs": [],
   "source": [
    "import pandas as pd\n",
    "import pickle\n",
    "import matplotlib.pyplot as plt"
   ]
  },
  {
   "cell_type": "markdown",
   "metadata": {},
   "source": [
    "# Mengimport model yang sudah dilatih sebelumnya."
   ]
  },
  {
   "cell_type": "code",
   "execution_count": 2,
   "metadata": {},
   "outputs": [
    {
     "name": "stderr",
     "output_type": "stream",
     "text": [
      "d:\\Kuliah\\Semester 5\\Aplikasi Web\\Praktikum 9 rev 1\\.venv\\Lib\\site-packages\\sklearn\\base.py:376: InconsistentVersionWarning: Trying to unpickle estimator CountVectorizer from version 0.22.2.post1 when using version 1.5.2. This might lead to breaking code or invalid results. Use at your own risk. For more info please refer to:\n",
      "https://scikit-learn.org/stable/model_persistence.html#security-maintainability-limitations\n",
      "  warnings.warn(\n",
      "d:\\Kuliah\\Semester 5\\Aplikasi Web\\Praktikum 9 rev 1\\.venv\\Lib\\site-packages\\sklearn\\base.py:376: InconsistentVersionWarning: Trying to unpickle estimator MultinomialNB from version 0.22.2.post1 when using version 1.5.2. This might lead to breaking code or invalid results. Use at your own risk. For more info please refer to:\n",
      "https://scikit-learn.org/stable/model_persistence.html#security-maintainability-limitations\n",
      "  warnings.warn(\n"
     ]
    }
   ],
   "source": [
    "feature_bow = pickle.load(open(\"./model/feature-bow.p\",'rb'))\n",
    "model_nb = pickle.load(open('./model/model-nb.p', 'rb'))"
   ]
  },
  {
   "cell_type": "markdown",
   "metadata": {},
   "source": [
    "# Mengimport dataset yang diperlukan."
   ]
  },
  {
   "cell_type": "code",
   "execution_count": 3,
   "metadata": {},
   "outputs": [
    {
     "data": {
      "text/html": [
       "<div>\n",
       "<style scoped>\n",
       "    .dataframe tbody tr th:only-of-type {\n",
       "        vertical-align: middle;\n",
       "    }\n",
       "\n",
       "    .dataframe tbody tr th {\n",
       "        vertical-align: top;\n",
       "    }\n",
       "\n",
       "    .dataframe thead th {\n",
       "        text-align: right;\n",
       "    }\n",
       "</style>\n",
       "<table border=\"1\" class=\"dataframe\">\n",
       "  <thead>\n",
       "    <tr style=\"text-align: right;\">\n",
       "      <th></th>\n",
       "      <th>comment</th>\n",
       "      <th>cleaned_comment</th>\n",
       "    </tr>\n",
       "  </thead>\n",
       "  <tbody>\n",
       "    <tr>\n",
       "      <th>0</th>\n",
       "      <td>Gibraaaann MANTAPKU🔥🔥🔥🔥</td>\n",
       "      <td>mantap</td>\n",
       "    </tr>\n",
       "    <tr>\n",
       "      <th>1</th>\n",
       "      <td>Pengen balik ke sini.  Lihat orang2 yg dulu ng...</td>\n",
       "      <td>balik ke sini orang yg dulu ngalem bocil msh t...</td>\n",
       "    </tr>\n",
       "    <tr>\n",
       "      <th>2</th>\n",
       "      <td>Woi Tapera Tapera ok gas ok gas pretttt</td>\n",
       "      <td>ok gas ok gas pretttt</td>\n",
       "    </tr>\n",
       "    <tr>\n",
       "      <th>3</th>\n",
       "      <td>AkademisiRocky Gerung</td>\n",
       "      <td>akademisirocky</td>\n",
       "    </tr>\n",
       "    <tr>\n",
       "      <th>4</th>\n",
       "      <td>uustadzRockyvGerungprofDrAhliFilsapatnterkemuk...</td>\n",
       "      <td>uustadzrockyvgerungprofdrahlifilsapatnterkemukadi</td>\n",
       "    </tr>\n",
       "  </tbody>\n",
       "</table>\n",
       "</div>"
      ],
      "text/plain": [
       "                                             comment  \\\n",
       "0                            Gibraaaann MANTAPKU🔥🔥🔥🔥   \n",
       "1  Pengen balik ke sini.  Lihat orang2 yg dulu ng...   \n",
       "2            Woi Tapera Tapera ok gas ok gas pretttt   \n",
       "3                              AkademisiRocky Gerung   \n",
       "4  uustadzRockyvGerungprofDrAhliFilsapatnterkemuk...   \n",
       "\n",
       "                                     cleaned_comment  \n",
       "0                                             mantap  \n",
       "1  balik ke sini orang yg dulu ngalem bocil msh t...  \n",
       "2                              ok gas ok gas pretttt  \n",
       "3                                     akademisirocky  \n",
       "4  uustadzrockyvgerungprofdrahlifilsapatnterkemukadi  "
      ]
     },
     "execution_count": 3,
     "metadata": {},
     "output_type": "execute_result"
    }
   ],
   "source": [
    "data_cleaned = pd.read_csv('./data/cleaned_comment_yt.csv')\n",
    "data_cleaned.head()"
   ]
  },
  {
   "cell_type": "markdown",
   "metadata": {},
   "source": [
    "# Membuat method untuk memprediksi sentimen."
   ]
  },
  {
   "cell_type": "code",
   "execution_count": 4,
   "metadata": {},
   "outputs": [],
   "source": [
    "def predict_sentiment(sent):\n",
    "    text=str(sent)\n",
    "    # feature extraction\n",
    "    text_feature = feature_bow.transform([text])\n",
    "    # predict\n",
    "    return model_nb.predict(text_feature)[0]"
   ]
  },
  {
   "cell_type": "markdown",
   "metadata": {},
   "source": [
    "# Menerapkan method predict_sentiment ke dalam data_cleaned pada kolom 'cleaned_comment'"
   ]
  },
  {
   "cell_type": "code",
   "execution_count": 5,
   "metadata": {},
   "outputs": [
    {
     "data": {
      "text/html": [
       "<div>\n",
       "<style scoped>\n",
       "    .dataframe tbody tr th:only-of-type {\n",
       "        vertical-align: middle;\n",
       "    }\n",
       "\n",
       "    .dataframe tbody tr th {\n",
       "        vertical-align: top;\n",
       "    }\n",
       "\n",
       "    .dataframe thead th {\n",
       "        text-align: right;\n",
       "    }\n",
       "</style>\n",
       "<table border=\"1\" class=\"dataframe\">\n",
       "  <thead>\n",
       "    <tr style=\"text-align: right;\">\n",
       "      <th></th>\n",
       "      <th>comment</th>\n",
       "      <th>cleaned_comment</th>\n",
       "      <th>predicted_sentiment</th>\n",
       "    </tr>\n",
       "  </thead>\n",
       "  <tbody>\n",
       "    <tr>\n",
       "      <th>0</th>\n",
       "      <td>Gibraaaann MANTAPKU🔥🔥🔥🔥</td>\n",
       "      <td>mantap</td>\n",
       "      <td>positive</td>\n",
       "    </tr>\n",
       "    <tr>\n",
       "      <th>1</th>\n",
       "      <td>Pengen balik ke sini.  Lihat orang2 yg dulu ng...</td>\n",
       "      <td>balik ke sini orang yg dulu ngalem bocil msh t...</td>\n",
       "      <td>negative</td>\n",
       "    </tr>\n",
       "    <tr>\n",
       "      <th>2</th>\n",
       "      <td>Woi Tapera Tapera ok gas ok gas pretttt</td>\n",
       "      <td>ok gas ok gas pretttt</td>\n",
       "      <td>neutral</td>\n",
       "    </tr>\n",
       "    <tr>\n",
       "      <th>3</th>\n",
       "      <td>AkademisiRocky Gerung</td>\n",
       "      <td>akademisirocky</td>\n",
       "      <td>positive</td>\n",
       "    </tr>\n",
       "    <tr>\n",
       "      <th>4</th>\n",
       "      <td>uustadzRockyvGerungprofDrAhliFilsapatnterkemuk...</td>\n",
       "      <td>uustadzrockyvgerungprofdrahlifilsapatnterkemukadi</td>\n",
       "      <td>positive</td>\n",
       "    </tr>\n",
       "  </tbody>\n",
       "</table>\n",
       "</div>"
      ],
      "text/plain": [
       "                                             comment  \\\n",
       "0                            Gibraaaann MANTAPKU🔥🔥🔥🔥   \n",
       "1  Pengen balik ke sini.  Lihat orang2 yg dulu ng...   \n",
       "2            Woi Tapera Tapera ok gas ok gas pretttt   \n",
       "3                              AkademisiRocky Gerung   \n",
       "4  uustadzRockyvGerungprofDrAhliFilsapatnterkemuk...   \n",
       "\n",
       "                                     cleaned_comment predicted_sentiment  \n",
       "0                                             mantap            positive  \n",
       "1  balik ke sini orang yg dulu ngalem bocil msh t...            negative  \n",
       "2                              ok gas ok gas pretttt             neutral  \n",
       "3                                     akademisirocky            positive  \n",
       "4  uustadzrockyvgerungprofdrahlifilsapatnterkemukadi            positive  "
      ]
     },
     "execution_count": 5,
     "metadata": {},
     "output_type": "execute_result"
    }
   ],
   "source": [
    "data_cleaned['predicted_sentiment'] = data_cleaned.cleaned_comment.apply(predict_sentiment)\n",
    "\n",
    "data_cleaned.head()"
   ]
  },
  {
   "cell_type": "markdown",
   "metadata": {},
   "source": [
    "# Menyimpan dataset yang telah diprediksi sentimennya ke dalam bentuk CSV."
   ]
  },
  {
   "cell_type": "code",
   "execution_count": 6,
   "metadata": {},
   "outputs": [],
   "source": [
    "data_cleaned.to_csv('./data/predicted_comment_yt.csv', index=False)"
   ]
  },
  {
   "cell_type": "markdown",
   "metadata": {},
   "source": [
    "# Memvisualisasikan persebaran sentimen berdasarkan kuantitasnya."
   ]
  },
  {
   "cell_type": "code",
   "execution_count": 7,
   "metadata": {},
   "outputs": [
    {
     "data": {
      "image/png": "[encoded data removed]",
      "text/plain": [
       "<Figure size 640x480 with 1 Axes>"
      ]
     },
     "metadata": {},
     "output_type": "display_data"
    }
   ],
   "source": [
    "df = pd.read_csv('./data/predicted_comment_yt.csv')\n",
    "\n",
    "sentiment_counts = df['predicted_sentiment'].value_counts()\n",
    "sentiment_counts.plot(kind='bar', color=['red', 'blue', 'green'])\n",
    "plt.xlabel('Sentiment')\n",
    "plt.ylabel('Count')\n",
    "plt.title('Sentiment Distribution')\n",
    "plt.show()"
   ]
  },
  {
   "cell_type": "markdown",
   "metadata": {},
   "source": [
    "# Menyeimbangkan semua jumlah sentimen agar sama dengan jumlah sentimen paling sedikit."
   ]
  },
  {
   "cell_type": "code",
   "execution_count": 8,
   "metadata": {},
   "outputs": [
    {
     "name": "stdout",
     "output_type": "stream",
     "text": [
      "predicted_sentiment\n",
      "negative    6691\n",
      "neutral     6691\n",
      "positive    6691\n",
      "Name: count, dtype: int64\n"
     ]
    },
    {
     "name": "stderr",
     "output_type": "stream",
     "text": [
      "C:\\Users\\VICTUS\\AppData\\Local\\Temp\\ipykernel_100016\\1667129359.py:4: DeprecationWarning: DataFrameGroupBy.apply operated on the grouping columns. This behavior is deprecated, and in a future version of pandas the grouping columns will be excluded from the operation. Either pass `include_groups=False` to exclude the groupings or explicitly select the grouping columns after groupby to silence this warning.\n",
      "  df_balanced = df.groupby('predicted_sentiment').apply(lambda x: x.sample(min_count)).reset_index(drop=True)\n"
     ]
    }
   ],
   "source": [
    "min_count = sentiment_counts.min()\n",
    "\n",
    "# Sample the minimum count of each sentiment\n",
    "df_balanced = df.groupby('predicted_sentiment').apply(lambda x: x.sample(min_count)).reset_index(drop=True)\n",
    "\n",
    "print(df_balanced['predicted_sentiment'].value_counts())"
   ]
  },
  {
   "cell_type": "markdown",
   "metadata": {},
   "source": [
    "# Menyimpan dataset yang telah diseimbangkan ke dalam bentuk file CSV."
   ]
  },
  {
   "cell_type": "code",
   "execution_count": 9,
   "metadata": {},
   "outputs": [],
   "source": [
    "df_balanced.to_csv('./data/predicted_comment_balanced.csv', index=False)"
   ]
  }
 ],
 "metadata": {
  "kernelspec": {
   "display_name": ".venv",
   "language": "python",
   "name": "python3"
  },
  "language_info": {
   "codemirror_mode": {
    "name": "ipython",
    "version": 3
   },
   "file_extension": ".py",
   "mimetype": "text/x-python",
   "name": "python",
   "nbconvert_exporter": "python",
   "pygments_lexer": "ipython3",
   "version": "3.11.9"
  }
 },
 "nbformat": 4,
 "nbformat_minor": 2
}
