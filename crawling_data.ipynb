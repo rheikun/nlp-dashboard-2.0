{
 "cells": [
  {
   "cell_type": "markdown",
   "metadata": {},
   "source": [
    "# Mengimport library dan memasukkan API yang akan digunakan untuk mengambil data."
   ]
  },
  {
   "cell_type": "code",
   "execution_count": 1,
   "metadata": {},
   "outputs": [],
   "source": [
    "from googleapiclient.discovery import build\n",
    "import pandas as pd\n",
    "\n",
    "API_KEY = '' # Add your API key here\n",
    "YOUTUBE_API_SERVICE_NAME = 'youtube'\n",
    "YOUTUBE_API_VERSION = 'v3'"
   ]
  },
  {
   "cell_type": "markdown",
   "metadata": {},
   "source": [
    "# Membuat method untuk mengambil comment dari YouTube."
   ]
  },
  {
   "cell_type": "code",
   "execution_count": 2,
   "metadata": {},
   "outputs": [],
   "source": [
    "def get_comments(video_id):\n",
    "    youtube = build(YOUTUBE_API_SERVICE_NAME, YOUTUBE_API_VERSION, developerKey=API_KEY)\n",
    "    comments = []\n",
    "    response = youtube.commentThreads().list(\n",
    "        part='snippet',\n",
    "        videoId=video_id,\n",
    "        textFormat='plainText'\n",
    "    ).execute()\n",
    "\n",
    "    while response:\n",
    "        for item in response['items']:\n",
    "            comment = item['snippet']['topLevelComment']['snippet']['textDisplay']\n",
    "            comments.append(comment)\n",
    "        if 'nextPageToken' in response:\n",
    "            response = youtube.commentThreads().list(\n",
    "                part='snippet',\n",
    "                videoId=video_id,\n",
    "                pageToken=response['nextPageToken'],\n",
    "                textFormat='plainText'\n",
    "            ).execute()\n",
    "        else:\n",
    "            break\n",
    "    return comments"
   ]
  },
  {
   "cell_type": "markdown",
   "metadata": {},
   "source": [
    "# Memasukkan ID video yang ingin diambil commentnya lalu disimpan ke dalam bentuk file CSV."
   ]
  },
  {
   "cell_type": "code",
   "execution_count": 3,
   "metadata": {},
   "outputs": [],
   "source": [
    "video_id = 'J1WUpRCzK44'\n",
    "comments = get_comments(video_id)\n",
    "df = pd.DataFrame(comments, columns=['comment'])\n",
    "df.to_csv('./data/comments1.csv', index=False)"
   ]
  },
  {
   "cell_type": "code",
   "execution_count": 4,
   "metadata": {},
   "outputs": [],
   "source": [
    "video_id = 'UQtvZgKmGJo'\n",
    "comments = get_comments(video_id)\n",
    "df = pd.DataFrame(comments, columns=['comment'])\n",
    "df.to_csv('./data/comments2.csv', index=False)"
   ]
  },
  {
   "cell_type": "code",
   "execution_count": 5,
   "metadata": {},
   "outputs": [],
   "source": [
    "video_id = 'bzgrq1KTiSY'\n",
    "comments = get_comments(video_id)\n",
    "df = pd.DataFrame(comments, columns=['comment'])\n",
    "df.to_csv('./data/comments3.csv', index=False)"
   ]
  },
  {
   "cell_type": "code",
   "execution_count": 6,
   "metadata": {},
   "outputs": [],
   "source": [
    "video_id = '92k51DVSDv4'\n",
    "comments = get_comments(video_id)\n",
    "df = pd.DataFrame(comments, columns=['comment'])\n",
    "df.to_csv('./data/comments4.csv', index=False)"
   ]
  },
  {
   "cell_type": "code",
   "execution_count": 7,
   "metadata": {},
   "outputs": [],
   "source": [
    "video_id = 'p-vbZkT3Yck'\n",
    "comments = get_comments(video_id)\n",
    "df = pd.DataFrame(comments, columns=['comment'])\n",
    "df.to_csv('./data/comments5.csv', index=False)"
   ]
  },
  {
   "cell_type": "code",
   "execution_count": 8,
   "metadata": {},
   "outputs": [],
   "source": [
    "video_id = '0mo0SEfMm9U'\n",
    "comments = get_comments(video_id)\n",
    "df = pd.DataFrame(comments, columns=['comment'])\n",
    "df.to_csv('./data/comments6.csv', index=False)"
   ]
  },
  {
   "cell_type": "markdown",
   "metadata": {},
   "source": [
    "# Menggabungkan semua data comment yang di dapat berdasarkan kolom \"comment\"."
   ]
  },
  {
   "cell_type": "code",
   "execution_count": 9,
   "metadata": {},
   "outputs": [
    {
     "name": "stdout",
     "output_type": "stream",
     "text": [
      "                                                comment\n",
      "0                                                 30:03\n",
      "1                                                 55:43\n",
      "2                                               1:34:55\n",
      "3                                                 28:48\n",
      "4                               Gibraaaann MANTAPKU🔥🔥🔥🔥\n",
      "...                                                 ...\n",
      "3648                  Mas gibran anak muda cerdass❤✌🏻✌🏻\n",
      "3649                                        Semangat 02\n",
      "3650  Dasar sombong,kami ga butuh dg singkatan buset...\n",
      "3651  Buset,apa arti dg botol.apa hubungan dg IKN,pr...\n",
      "3652                                      Ms gibran oke\n",
      "\n",
      "[29401 rows x 1 columns]\n"
     ]
    }
   ],
   "source": [
    "df1 = pd.read_csv('./data/comments1.csv')\n",
    "df2 = pd.read_csv('./data/comments2.csv')\n",
    "df3 = pd.read_csv('./data/comments3.csv')\n",
    "df4 = pd.read_csv('./data/comments4.csv')\n",
    "df5 = pd.read_csv('./data/comments5.csv')\n",
    "df6 = pd.read_csv('./data/comments6.csv')\n",
    "\n",
    "result = pd.concat([df1, df2, df3, df4, df5, df6], axis=0, join='inner').drop_duplicates(subset='comment')\n",
    "\n",
    "result.to_csv('./data/dataset_comment_yt.csv', index=False)\n",
    "\n",
    "print(result)"
   ]
  }
 ],
 "metadata": {
  "kernelspec": {
   "display_name": ".venv",
   "language": "python",
   "name": "python3"
  },
  "language_info": {
   "codemirror_mode": {
    "name": "ipython",
    "version": 3
   },
   "file_extension": ".py",
   "mimetype": "text/x-python",
   "name": "python",
   "nbconvert_exporter": "python",
   "pygments_lexer": "ipython3",
   "version": "3.11.9"
  }
 },
 "nbformat": 4,
 "nbformat_minor": 2
}
